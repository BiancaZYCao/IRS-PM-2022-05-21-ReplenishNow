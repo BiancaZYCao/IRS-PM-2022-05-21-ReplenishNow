{
 "cells": [
  {
   "cell_type": "code",
   "execution_count": 36,
   "id": "885bf662",
   "metadata": {},
   "outputs": [],
   "source": [
    "import numpy as np\n",
    "import pandas as pd\n",
    "\n",
    "request_json_27179 = {'item_id': '27179', 'init_inventory': 149, 'min_order_qty': 50, 'lead_time': 16, 'order_unit': 10, \n",
    "                      'demand': [6.0, 8.0, 9.0, 8.0, 9.0, 6.0, 4.0, 6.0, 8.0, 9.0, 8.0, 9.0, 6.0, 4.0, 6.0, 8.0, 9.0, 8.0, 9.0, 6.0, 4.0, 6.0, 8.0, 9.0, 8.0, 9.0, 6.0, 4.0, 6.0, 8.0, 9.0, 8.0, 9.0, 6.0, 4.0, 6.0, 8.0, 9.0, 8.0, 9.0, 6.0, 4.0]}\n",
    "\n",
    "request_json = {'item_id': '10961', 'init_inventory': 87, 'min_order_qty': 10, 'lead_time': 6, 'order_unit': 5,\n",
    "                'demand':[5.3, 4.6, 3.8, 4.7, 5.4, 6.8, 2.9, 19.1, 27.4, 34.6, 22.1, 30.8, 20.4, 14.8, 9.3, 14.7, 20.0, 13.5, 17.8, 10.5, 8.5, 6.9, 7.5, 9.0, 7.8, 6.1, 7.4, 5.5, 4.0, 7.4]}"
   ]
  },
  {
   "cell_type": "code",
   "execution_count": 37,
   "id": "e46197e8",
   "metadata": {},
   "outputs": [],
   "source": [
    "'''\n",
    "for cloud function\n",
    "Bianca ZYCao\n",
    "'''\n",
    "def smart_replenisher(request_json):\n",
    "    from ortools.linear_solver import pywraplp\n",
    "    # Create the MIP solver.\n",
    "    solver = pywraplp.Solver.CreateSolver('SCIP')\n",
    "\n",
    "    # Define the input data. \n",
    "    init_inventory_level = request_json['init_inventory']\n",
    "    big_M = 2000\n",
    "    demand = [request_json['demand']]\n",
    "    num_of_demand_scenarios = len(demand)\n",
    "    num_of_weeks = len(demand[0]) \n",
    "    lead_time = request_json['lead_time']\n",
    "    min_order_qty = request_json['min_order_qty']\n",
    "    order_unit = request_json['order_unit']\n",
    "    # TODO: introduce more constraints type & define objective function Ordering_cost+holding_cost+penalty on stockout\n",
    "    ordering_cost = 20\n",
    "    holding_cost = 0.2\n",
    "    unit_price = 1\n",
    "    service_rate = 0.98\n",
    "    order_placement_interval = 3\n",
    "    # Define the decision variables.\n",
    "    order_quantity = [solver.IntVar(0, 100, f'order_quantity_{i}') \n",
    "                        for i in range(num_of_weeks)]\n",
    "    inventory_level = [[solver.IntVar(-500, 2000,  f'inventory_week{i}_scenario{j}') \n",
    "                        for i in range(num_of_weeks+1)] \n",
    "                        for j in range(num_of_demand_scenarios)]\n",
    "    total_inventory_level_scenario = [solver.IntVar(-50000, solver.infinity(),  \n",
    "                                                    f'exp_inventory_level_scenario{j}') \n",
    "                        for j in range(num_of_demand_scenarios)]\n",
    "    stock_state  = [[solver.IntVar(0, 1, f'stock_state_week{i}_scenario{j}')\n",
    "                        for i in range(num_of_weeks+1)] \n",
    "                        for j in range(num_of_demand_scenarios)]\n",
    "    stock_state_sum = [solver.IntVar(0, num_of_weeks, f'stock_state_sum_scenario{j}') \n",
    "                        for j in range(num_of_demand_scenarios)]\n",
    "\n",
    "    # Add constraint for each week's inventory level\n",
    "    for j in range(num_of_demand_scenarios):\n",
    "        solver.Add(inventory_level[j][0] == init_inventory_level)  # initial inventory level\n",
    "        for i in range(num_of_weeks):\n",
    "            if i % order_placement_interval != 0: \n",
    "                solver.Add(order_quantity[i] == 0)\n",
    "            inventory_level[j][i+1] = inventory_level[j][i] - demand[j][i]\n",
    "            if i >= lead_time - 1 :\n",
    "                inventory_level[j][i+1] += order_quantity[i-(lead_time - 1)]*order_unit\n",
    "            # add constraint to tell stock out or not\n",
    "            solver.Add(inventory_level[j][i] <= stock_state[j][i] * big_M )\n",
    "            solver.Add(inventory_level[j][i] >= 1/big_M - (1-stock_state[j][i]) * big_M )\n",
    "        stock_state_sum[j] = sum(stock_state[j])\n",
    "        total_inventory_level_scenario[j] = sum(inventory_level[j])\n",
    "        \n",
    "    # good case\n",
    "    solver.Add(sum(stock_state_sum)>=service_rate*num_of_weeks*num_of_demand_scenarios)\n",
    "\n",
    "    # Define the objective function to minimize inventory level.\n",
    "    accum_inventory_level = sum(total_inventory_level_scenario)/num_of_demand_scenarios\n",
    "    holding_value = unit_price * accum_inventory_level\n",
    "    total_cost = ordering_cost * 3 + holding_value + holding_cost * holding_value\n",
    "    solver.Minimize(accum_inventory_level)\n",
    "\n",
    "    # Solve the optimization problem.\n",
    "    status = solver.Solve()\n",
    "\n",
    "    # Print the optimal order quantity and total cost.\n",
    "    if status == pywraplp.Solver.OPTIMAL or status == pywraplp.Solver.FEASIBLE:\n",
    "        print('Optimal or Feasible solution found.')\n",
    "        print('Optimal order quantity:')\n",
    "        for i in range(num_of_weeks):\n",
    "            print(order_quantity[i].solution_value()*order_unit,end=', ' )\n",
    "        print('')\n",
    "        service_rate = sum(stock_state_sum[j].solution_value() for j in range(num_of_demand_scenarios))/(num_of_weeks*num_of_demand_scenarios) \n",
    "        avg_inventory_level = sum(total_inventory_level_scenario[j].solution_value() for j in range(num_of_demand_scenarios))/(num_of_weeks*num_of_demand_scenarios)\n",
    "        exp_inventory_level = []\n",
    "        for i in range(num_of_weeks):\n",
    "            exp_inventory_level.append(sum(inventory_level[j][i].solution_value() for j in range(num_of_demand_scenarios)))\n",
    "        # return {\n",
    "        #     'message': 'Optimal or Feasible solution found.',\n",
    "        #     'service rate: ': service_rate,\n",
    "        #     'AVG inventory level:': avg_inventory_level,\n",
    "        #     'Holding Value :': holding_value.solution_value(),\n",
    "        #     'Total Cost:': total_cost.solution_value(),\n",
    "        # }\n",
    "        return {\n",
    "            'solution_found': True,\n",
    "            'replenish_required_smart': order_quantity[0].solution_value()>0,\n",
    "            'suggested_qty_smart:': max(order_quantity[0].solution_value()*order_unit,min_order_qty) if order_quantity[0].solution_value()>0 else 0,\n",
    "        }\n",
    "    elif  status == pywraplp.Solver.INFEASIBLE:\n",
    "        return {'solution_found': False,'message': 'The problem is not feasible.'}\n",
    "    elif  status == pywraplp.Solver.MODEL_INVALID:\n",
    "        raise RuntimeError('The model is not valid.')\n",
    "    else:\n",
    "        return {'solution_found': False,\n",
    "                'message': 'The problem does not have an optimal solution.'}\n",
    "    \n",
    "    return 'Nothing!'"
   ]
  },
  {
   "attachments": {},
   "cell_type": "markdown",
   "id": "6fcf0478",
   "metadata": {},
   "source": [
    "### try a few SKUs"
   ]
  },
  {
   "cell_type": "code",
   "execution_count": 38,
   "id": "af07598a",
   "metadata": {},
   "outputs": [
    {
     "name": "stdout",
     "output_type": "stream",
     "text": [
      "Optimal or Feasible solution found.\n",
      "Optimal order quantity:\n",
      "30.0, 0.0, 0.0, 20.0, 0.0, 0.0, 10.0, 0.0, 0.0, 20.0, 0.0, 0.0, 20.0, 0.0, 0.0, 10.0, 0.0, 0.0, 20.0, 0.0, 0.0, 20.0, 0.0, 0.0, 10.0, 0.0, 0.0, 20.0, 0.0, 0.0, 0.0, 0.0, 0.0, 0.0, 0.0, 0.0, 0.0, 0.0, 0.0, 0.0, 0.0, 0.0, 0.0, 0.0, 0.0, 0.0, 0.0, 0.0, 0.0, 0.0, 0.0, 0.0, 0.0, 0.0, 0.0, 0.0, \n"
     ]
    },
    {
     "data": {
      "text/plain": [
       "{'solution_found': True,\n",
       " 'replenish_required_smart': True,\n",
       " 'suggested_qty_smart:': 30.0}"
      ]
     },
     "execution_count": 38,
     "metadata": {},
     "output_type": "execute_result"
    }
   ],
   "source": [
    "request_json = {'item_id': '6112', 'init_inventory': 125, 'min_order_qty': 30, 'lead_time': 25, 'order_unit': 10, \n",
    "                'demand': [8.0, 6.0, 4.0, 10.0, 3.0, 6.0, 1.0, 8.0, 6.0, 4.0, 10.0, 3.0, 6.0, 1.0, 8.0, 6.0, 4.0, 10.0, 3.0, 6.0, 1.0, 8.0, 6.0, 4.0, 10.0, 3.0, 6.0, 1.0, 8.0, 6.0, 4.0, 10.0, 3.0, 6.0, 1.0, 8.0, 6.0, 4.0, 10.0, 3.0, 6.0, 1.0, 8.0, 6.0, 4.0, 10.0, 3.0, 6.0, 1.0, 8.0, 6.0, 4.0, 10.0, 3.0, 6.0, 1.0]}\n",
    "\n",
    "smart_replenisher(request_json)"
   ]
  },
  {
   "cell_type": "code",
   "execution_count": 39,
   "id": "79574d5f",
   "metadata": {},
   "outputs": [
    {
     "name": "stdout",
     "output_type": "stream",
     "text": [
      "Optimal or Feasible solution found.\n",
      "Optimal order quantity:\n",
      "20.0, 0.0, 0.0, 30.0, 0.0, 0.0, 20.0, 0.0, 0.0, 20.0, 0.0, 0.0, 20.0, 0.0, 0.0, 30.0, 0.0, 0.0, 10.0, 0.0, 0.0, 30.0, 0.0, 0.0, 10.0, 0.0, 0.0, 0.0, 0.0, 0.0, 0.0, 0.0, 0.0, 0.0, 0.0, 0.0, 0.0, 0.0, 0.0, 0.0, 0.0, 0.0, \n"
     ]
    },
    {
     "data": {
      "text/plain": [
       "{'solution_found': True,\n",
       " 'replenish_required_smart': True,\n",
       " 'suggested_qty_smart:': 50}"
      ]
     },
     "execution_count": 39,
     "metadata": {},
     "output_type": "execute_result"
    }
   ],
   "source": [
    "request_json_27179 = {'item_id': '27179', 'init_inventory': 108, 'min_order_qty': 50, 'lead_time': 16, 'order_unit': 10, \n",
    "                      'demand': [6.0, 8.0, 9.0, 8.0, 9.0, 6.0, 4.0, 6.0, 8.0, 9.0, 8.0, 9.0, 6.0, 4.0, 6.0, 8.0, 9.0, 8.0, 9.0, 6.0, 4.0, 6.0, 8.0, 9.0, 8.0, 9.0, 6.0, 4.0, 6.0, 8.0, 9.0, 8.0, 9.0, 6.0, 4.0, 6.0, 8.0, 9.0, 8.0, 9.0, 6.0, 4.0]}\n",
    "\n",
    "smart_replenisher(request_json_27179)"
   ]
  },
  {
   "cell_type": "code",
   "execution_count": 40,
   "id": "86710e9c",
   "metadata": {},
   "outputs": [
    {
     "name": "stdout",
     "output_type": "stream",
     "text": [
      "Optimal or Feasible solution found.\n",
      "Optimal order quantity:\n",
      "45.0, 0.0, 0.0, 25.0, 0.0, 0.0, 60.0, 0.0, 0.0, 35.0, 0.0, 0.0, 50.0, 0.0, 0.0, 30.0, 0.0, 0.0, 45.0, 0.0, 0.0, 40.0, 0.0, 0.0, 40.0, 0.0, 0.0, 45.0, 0.0, 0.0, 0.0, 0.0, 0.0, 0.0, 0.0, 0.0, 0.0, 0.0, 0.0, 0.0, 0.0, 0.0, 0.0, 0.0, 0.0, 0.0, 0.0, 0.0, 0.0, 0.0, 0.0, 0.0, 0.0, 0.0, 0.0, 0.0, \n"
     ]
    },
    {
     "data": {
      "text/plain": [
       "{'solution_found': True,\n",
       " 'replenish_required_smart': True,\n",
       " 'suggested_qty_smart:': 45.0}"
      ]
     },
     "execution_count": 40,
     "metadata": {},
     "output_type": "execute_result"
    }
   ],
   "source": [
    "request_json_395 = {'item_id': '395', 'init_inventory': 333, 'min_order_qty': 10, 'lead_time': 26, 'order_unit': 5, 'demand': [9.0, 15.0, 20.0, 14.0, 18.0, 10.0, 8.0, 9.0, 15.0, 20.0, 14.0, 18.0, 10.0, 8.0, 9.0, 15.0, 20.0, 14.0, 18.0, 10.0, 8.0, 9.0, 15.0, 20.0, 14.0, 18.0, 10.0, 8.0, 9.0, 15.0, 20.0, 14.0, 18.0, 10.0, 8.0, 9.0, 15.0, 20.0, 14.0, 18.0, 10.0, 8.0, 9.0, 15.0, 20.0, 14.0, 18.0, 10.0, 8.0, 9.0, 15.0, 20.0, 14.0, 18.0, 10.0, 8.0]}\n",
    "\n",
    "smart_replenisher(request_json_395)"
   ]
  }
 ],
 "metadata": {
  "kernelspec": {
   "display_name": "Python 3 (ipykernel)",
   "language": "python",
   "name": "python3"
  },
  "language_info": {
   "codemirror_mode": {
    "name": "ipython",
    "version": 3
   },
   "file_extension": ".py",
   "mimetype": "text/x-python",
   "name": "python",
   "nbconvert_exporter": "python",
   "pygments_lexer": "ipython3",
   "version": "3.9.12"
  }
 },
 "nbformat": 4,
 "nbformat_minor": 5
}
